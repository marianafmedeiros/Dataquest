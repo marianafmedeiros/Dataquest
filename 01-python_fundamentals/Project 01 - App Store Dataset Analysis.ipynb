{
 "cells": [
  {
   "cell_type": "markdown",
   "metadata": {},
   "source": [
    "# App Stores Dataset Analysis\n",
    "\n",
    "This project is about analyzing data to help a company that builds Android and iOS mobile apps. This company works in building free apps in which there are in-app ads. Their revenue comes from the engagement between the users and those in-app ads. Therefore, the more users that see and engage wih the ads, the better.\n",
    "\n",
    "Our goal in this project is to identify which type of apps are likely to attract more users on Google Play and App Store so the developers can understand the best apps to build.\n",
    "\n",
    "Collecting data for over 4 million apps requires a significant amount of time and money, so we'll try to analyze a sample of the data instead. To avoid spending resources on collecting new data ourselves, we should first try to see if we can find any relevant existing data at no cost. Luckily, these are two data sets that seem suitable for our goals:\n",
    "\n",
    "* A [data set](https://www.kaggle.com/lava18/google-play-store-apps/home) containing data about approximately 10,000 Android apps from Google Play; the data was collected in August 2018.\n",
    "* A [data set](https://www.kaggle.com/ramamet4/app-store-apple-data-set-10k-apps/home) containing data about approximately 7,000 iOS apps from the App Store; the data was collected in July 2017."
   ]
  },
  {
   "cell_type": "markdown",
   "metadata": {},
   "source": [
    "## Exploring the Data\n",
    "\n",
    "First, we will define a function that allows us to explore the dataset we chose to analyze. The following function shows us, for instance, some of the data so we can have an idea on how it is organized inside the dataset as well as the number of rows and columns and the name of the columns."
   ]
  },
  {
   "cell_type": "code",
   "execution_count": 1,
   "metadata": {},
   "outputs": [],
   "source": [
    "def explore_data (dataset, start, end, rows_and_columns = False):\n",
    "    dataset_slice = dataset[start:end]\n",
    "    for row in dataset_slice:\n",
    "        print(row)\n",
    "        print('\\n')\n",
    "        \n",
    "    if rows_and_columns:\n",
    "        print('Number of rows:', len(dataset))\n",
    "        print('Number of columns:', len(dataset[0]))\n"
   ]
  },
  {
   "cell_type": "markdown",
   "metadata": {},
   "source": [
    "With the function defined, we will open the datasets files that are located in a different directory from the project."
   ]
  },
  {
   "cell_type": "code",
   "execution_count": 2,
   "metadata": {
    "scrolled": true
   },
   "outputs": [],
   "source": [
    "apple_opened_file = open('C:\\\\Users\\Mariana\\Desktop\\PROFISSIONAL\\Cursos Online\\Python_DataQuest\\Project 01 - App Stores Dataset Analysis\\Project 01_Datasets\\AppleStore.csv', encoding = 'utf8')\n",
    "android_opened_file = open ('C:\\\\Users\\Mariana\\Desktop\\PROFISSIONAL\\Cursos Online\\Python_DataQuest\\Project 01 - App Stores Dataset Analysis\\Project 01_Datasets\\googleplaystore.csv',  encoding = 'utf8')\n",
    "from csv import reader\n",
    "apple_file = reader(apple_opened_file)\n",
    "android_file = reader(android_opened_file)\n",
    "apple_apps = list(apple_file)\n",
    "android_apps = list (android_file)"
   ]
  },
  {
   "cell_type": "markdown",
   "metadata": {},
   "source": [
    "We will then explore the data with the function `explore_data`"
   ]
  },
  {
   "cell_type": "code",
   "execution_count": 3,
   "metadata": {
    "scrolled": true
   },
   "outputs": [
    {
     "name": "stdout",
     "output_type": "stream",
     "text": [
      "['', 'id', 'track_name', 'size_bytes', 'currency', 'price', 'rating_count_tot', 'rating_count_ver', 'user_rating', 'user_rating_ver', 'ver', 'cont_rating', 'prime_genre', 'sup_devices.num', 'ipadSc_urls.num', 'lang.num', 'vpp_lic']\n",
      "\n",
      "\n",
      "['1', '281656475', 'PAC-MAN Premium', '100788224', 'USD', '3.99', '21292', '26', '4', '4.5', '6.3.5', '4+', 'Games', '38', '5', '10', '1']\n",
      "\n",
      "\n",
      "['2', '281796108', 'Evernote - stay organized', '158578688', 'USD', '0', '161065', '26', '4', '3.5', '8.2.2', '4+', 'Productivity', '37', '5', '23', '1']\n",
      "\n",
      "\n",
      "['3', '281940292', 'WeatherBug - Local Weather, Radar, Maps, Alerts', '100524032', 'USD', '0', '188583', '2822', '3.5', '4.5', '5.0.0', '4+', 'Weather', '37', '5', '3', '1']\n",
      "\n",
      "\n",
      "['4', '282614216', 'eBay: Best App to Buy, Sell, Save! Online Shopping', '128512000', 'USD', '0', '262241', '649', '4', '4.5', '5.10.0', '12+', 'Shopping', '37', '5', '9', '1']\n",
      "\n",
      "\n",
      "Number of rows: 7198\n",
      "Number of columns: 17\n",
      "\n",
      "\n",
      "['App', 'Category', 'Rating', 'Reviews', 'Size', 'Installs', 'Type', 'Price', 'Content Rating', 'Genres', 'Last Updated', 'Current Ver', 'Android Ver']\n",
      "\n",
      "\n",
      "['Photo Editor & Candy Camera & Grid & ScrapBook', 'ART_AND_DESIGN', '4.1', '159', '19M', '10,000+', 'Free', '0', 'Everyone', 'Art & Design', 'January 7, 2018', '1.0.0', '4.0.3 and up']\n",
      "\n",
      "\n",
      "['Coloring book moana', 'ART_AND_DESIGN', '3.9', '967', '14M', '500,000+', 'Free', '0', 'Everyone', 'Art & Design;Pretend Play', 'January 15, 2018', '2.0.0', '4.0.3 and up']\n",
      "\n",
      "\n",
      "['U Launcher Lite – FREE Live Cool Themes, Hide Apps', 'ART_AND_DESIGN', '4.7', '87510', '8.7M', '5,000,000+', 'Free', '0', 'Everyone', 'Art & Design', 'August 1, 2018', '1.2.4', '4.0.3 and up']\n",
      "\n",
      "\n",
      "['Sketch - Draw & Paint', 'ART_AND_DESIGN', '4.5', '215644', '25M', '50,000,000+', 'Free', '0', 'Teen', 'Art & Design', 'June 8, 2018', 'Varies with device', '4.2 and up']\n",
      "\n",
      "\n",
      "Number of rows: 10842\n",
      "Number of columns: 13\n"
     ]
    }
   ],
   "source": [
    "explore_data (apple_apps, 0, 5, True)\n",
    "print ('\\n')\n",
    "explore_data (android_apps, 0, 5, True)"
   ]
  },
  {
   "cell_type": "markdown",
   "metadata": {},
   "source": [
    "## Data Cleaning Part 01 - Removing Innacurate Data\n",
    "\n",
    "Moving forward, we will perform a simple data cleaning process so we can isolate the data we are actually interested in: **Free apps that are developed towards an English-Speaking Audience.**\n",
    "\n",
    "From this [topic](https://www.kaggle.com/lava18/google-play-store-apps/discussion/66015) in the discussion session from where the data was imported, it was possible to identify an error within the dataset. As we don't know if the user considered or not the header row, we will check if the index provided (10472) is indeed correct.\n"
   ]
  },
  {
   "cell_type": "code",
   "execution_count": 4,
   "metadata": {
    "scrolled": false
   },
   "outputs": [
    {
     "name": "stdout",
     "output_type": "stream",
     "text": [
      "['App', 'Category', 'Rating', 'Reviews', 'Size', 'Installs', 'Type', 'Price', 'Content Rating', 'Genres', 'Last Updated', 'Current Ver', 'Android Ver']\n",
      "\n",
      "\n",
      "[['Xposed Wi-Fi-Pwd', 'PERSONALIZATION', '3.5', '1042', '404k', '100,000+', 'Free', '0', 'Everyone', 'Personalization', 'August 5, 2014', '3.0.0', '4.0.3 and up'], ['Life Made WI-Fi Touchscreen Photo Frame', '1.9', '19', '3.0M', '1,000+', 'Free', '0', 'Everyone', '', 'February 11, 2018', '1.0.19', '4.0 and up']]\n"
     ]
    }
   ],
   "source": [
    "print(android_apps[0])\n",
    "print ('\\n')\n",
    "print (android_apps[10472:10474])"
   ]
  },
  {
   "cell_type": "markdown",
   "metadata": {},
   "source": [
    "As seen above, the actual row from the dataset that is missing information (in this case, the \"category\" info) is the row indexed to the 10473. Therefore we will remove this row."
   ]
  },
  {
   "cell_type": "code",
   "execution_count": 5,
   "metadata": {},
   "outputs": [
    {
     "name": "stdout",
     "output_type": "stream",
     "text": [
      "Before length:  10842\n",
      "After length:  10841\n"
     ]
    }
   ],
   "source": [
    "print( 'Before length: ', len(android_apps))\n",
    "del android_apps[10473]\n",
    "print( 'After length: ', len(android_apps))"
   ]
  },
  {
   "cell_type": "markdown",
   "metadata": {},
   "source": [
    "## Data Cleaning Part 02 - Removing Duplicates \n",
    "\n",
    "Furthermore, we will check if there are any duplicates in each of the datasets. For this, we will create a function called `if_duplicates`"
   ]
  },
  {
   "cell_type": "code",
   "execution_count": 6,
   "metadata": {
    "scrolled": true
   },
   "outputs": [],
   "source": [
    "def if_duplicates (dataset_name, row_name):\n",
    "    duplicate_apps = []\n",
    "    unique_apps = []\n",
    "\n",
    "    for app in dataset_name[1:]:\n",
    "        name = app[row_name]\n",
    "        if name in unique_apps:\n",
    "            duplicate_apps.append(name)\n",
    "        else:\n",
    "            unique_apps.append(name)\n",
    "        \n",
    "    return [duplicate_apps,unique_apps]\n",
    "  "
   ]
  },
  {
   "cell_type": "markdown",
   "metadata": {},
   "source": [
    "With this function, we will loop through both datasets to identify if there is any duplicates and if so, how many."
   ]
  },
  {
   "cell_type": "code",
   "execution_count": 7,
   "metadata": {},
   "outputs": [
    {
     "name": "stdout",
     "output_type": "stream",
     "text": [
      "number of duplicate android apps:   1181\n",
      "\n",
      "\n",
      "Some of the apps are:   ['Quick PDF Scanner + OCR FREE', 'Box', 'Google My Business', 'ZOOM Cloud Meetings', 'join.me - Simple Meetings', 'Box', 'Zenefits', 'Google Ads', 'Google My Business', 'Slack', 'FreshBooks Classic', 'Insightly CRM', 'QuickBooks Accounting: Invoicing & Expenses', 'HipChat - Chat Built for Teams', 'Xero Accounting Software']\n",
      "\n",
      "\n",
      "number of android unique apps:   9659\n",
      "\n",
      "\n",
      "number of apple duplicate apps:   2\n",
      "\n",
      "\n",
      "Some of the apps are:   ['VR Roller Coaster', 'Mannequin Challenge']\n",
      "\n",
      "\n",
      "number of apple unique apps:   7195\n"
     ]
    }
   ],
   "source": [
    "duplicates_android = if_duplicates(android_apps,0)[0]\n",
    "unique_android = if_duplicates(android_apps,0)[1]\n",
    "print (\"number of duplicate android apps:\", \" \", len(duplicates_android))\n",
    "print ('\\n')\n",
    "print (\"Some of the apps are:\", \" \", duplicates_android[:15])\n",
    "print ('\\n')\n",
    "print (\"number of android unique apps:\", \" \", len(unique_android))\n",
    "print ('\\n')\n",
    "duplicates_apple = if_duplicates(apple_apps,2)[0]\n",
    "unique_apple = if_duplicates(apple_apps,2)[1]\n",
    "print (\"number of apple duplicate apps:\", \" \", len(duplicates_apple))\n",
    "print ('\\n')\n",
    "print (\"Some of the apps are:\", \" \", duplicates_apple[:15])\n",
    "print ('\\n')\n",
    "print (\"number of apple unique apps:\", \" \", len(unique_apple))"
   ]
  },
  {
   "cell_type": "code",
   "execution_count": 8,
   "metadata": {},
   "outputs": [
    {
     "name": "stdout",
     "output_type": "stream",
     "text": [
      "['', 'id', 'track_name', 'size_bytes', 'currency', 'price', 'rating_count_tot', 'rating_count_ver', 'user_rating', 'user_rating_ver', 'ver', 'cont_rating', 'prime_genre', 'sup_devices.num', 'ipadSc_urls.num', 'lang.num', 'vpp_lic']\n",
      "\n",
      "\n",
      "['4000', '952877179', 'VR Roller Coaster', '169523200', 'USD', '0', '107', '102', '3.5', '3.5', '2.0.0', '4+', 'Games', '37', '5', '1', '1']\n",
      "['7579', '1089824278', 'VR Roller Coaster', '240964608', 'USD', '0', '67', '44', '3.5', '4', '0.81', '4+', 'Games', '38', '0', '1', '1']\n"
     ]
    }
   ],
   "source": [
    "print(apple_apps[0])\n",
    "print ('\\n')\n",
    "for app in apple_apps [1:]:\n",
    "    name = app[2]\n",
    "    if name == 'VR Roller Coaster':\n",
    "        print (app)"
   ]
  },
  {
   "cell_type": "markdown",
   "metadata": {},
   "source": [
    "Therefore, we have 1181 duplicate android entries and only 2 duplicate apple entries.We will not delete the duplicates randomly. It is better to stay with the most recent entries so we get the most recent data from each app. However, the same app can be present in 2+ different categories (which is relevant for this analysis). Thus, as a criteria, we will maintain the entry with the most reviews."
   ]
  },
  {
   "cell_type": "code",
   "execution_count": 9,
   "metadata": {
    "scrolled": true
   },
   "outputs": [
    {
     "name": "stdout",
     "output_type": "stream",
     "text": [
      "number of unique apps for android: 9659\n",
      "\n",
      "\n",
      "number of unique apps for apple: 7195\n"
     ]
    }
   ],
   "source": [
    "reviews_max_google = {}\n",
    "\n",
    "for app in android_apps[1:]:\n",
    "    name = app[0]\n",
    "    n_reviews = float(app[3])\n",
    "    \n",
    "    if name in reviews_max_google           and \\\n",
    "    reviews_max_google[name] < n_reviews:\n",
    "        reviews_max_google[name] = n_reviews\n",
    "        \n",
    "    elif name not in reviews_max_google:\n",
    "        reviews_max_google[name]= n_reviews\n",
    "\n",
    "reviews_max_apple = {}\n",
    "\n",
    "for app in apple_apps[1:]:\n",
    "    name = app[2]\n",
    "    n_reviews = float(app[6])\n",
    "    \n",
    "    if name in reviews_max_apple           and \\\n",
    "    reviews_max_apple[name] < n_reviews:\n",
    "        reviews_max_apple[name] = n_reviews\n",
    "        \n",
    "    elif name not in reviews_max_apple:\n",
    "        reviews_max_apple[name]= n_reviews\n",
    "        \n",
    "\n",
    "\n",
    "print ('number of unique apps for android:',len(reviews_max_google))  \n",
    "print('\\n')\n",
    "print ('number of unique apps for apple:',len(reviews_max_apple)) \n",
    "\n",
    "\n",
    "       \n",
    "        "
   ]
  },
  {
   "cell_type": "markdown",
   "metadata": {},
   "source": [
    "As the length of those dictionaries match the expected, we can state that they are reliable. Then, we have dictionaries with only one entry for each app. "
   ]
  },
  {
   "cell_type": "markdown",
   "metadata": {},
   "source": [
    "Now, we are going to make a list with no duplicate data by performing a data clean process and deleting duplicates from the Android and Apple Apps datasets. We will create, then, two lists that will be useful for us: the `android_clean_dataset` and the `apple_clean_dataset`.\n",
    "\n",
    "We go through the datasets and compare the app name of each entry to `already_added` list so we can keep track of what we have already added and avoid duplicates as some entries may have the same number of reviews."
   ]
  },
  {
   "cell_type": "code",
   "execution_count": 10,
   "metadata": {},
   "outputs": [
    {
     "name": "stdout",
     "output_type": "stream",
     "text": [
      "number of apps in the android clean dataset is: 9659\n",
      "\n",
      "\n",
      "number of apps in the apple clean dataset is: 7195\n"
     ]
    }
   ],
   "source": [
    "android_clean_dataset = []\n",
    "already_added = []\n",
    "\n",
    "for app in android_apps[1:]:\n",
    "    name = app[0]\n",
    "    n_reviews = float(app[3])\n",
    "    \n",
    "    if name in reviews_max_google and n_reviews == reviews_max_google[name] and name not in already_added:\n",
    "        android_clean_dataset.append(app)\n",
    "        already_added.append(name)\n",
    "                             \n",
    "                            \n",
    "print( 'number of apps in the android clean dataset is:', len(android_clean_dataset))\n",
    "print ('\\n')\n",
    "apple_clean_dataset = []\n",
    "already_added = []\n",
    "\n",
    "for app in apple_apps[1:]:\n",
    "    name = app[2]\n",
    "    n_reviews = float(app[6])\n",
    "    \n",
    "    if name in reviews_max_apple and n_reviews == reviews_max_apple[name] and name not in already_added:\n",
    "        apple_clean_dataset.append(app)\n",
    "        already_added.append(name)\n",
    "print( 'number of apps in the apple clean dataset is:', len(apple_clean_dataset))"
   ]
  },
  {
   "cell_type": "markdown",
   "metadata": {},
   "source": [
    "## Data Cleaning Part 03 - Removing Non-English Apps\n",
    "\n",
    "As we want free apps that are developed towards an **English-Speaking Audience**, we will delete the ones that are made in a different language. For this, we will first build the function `if_english` and then test it:"
   ]
  },
  {
   "cell_type": "code",
   "execution_count": 11,
   "metadata": {},
   "outputs": [],
   "source": [
    "def if_english (appname):\n",
    "    for character in appname:\n",
    "        order = ord(character)\n",
    "        if order > 127:\n",
    "             return False\n",
    "            \n",
    "    return True"
   ]
  },
  {
   "cell_type": "code",
   "execution_count": 12,
   "metadata": {
    "scrolled": true
   },
   "outputs": [
    {
     "name": "stdout",
     "output_type": "stream",
     "text": [
      "False\n",
      "True\n",
      "False\n",
      "False\n"
     ]
    }
   ],
   "source": [
    "print (if_english('爱奇艺PPS -《欢乐颂2》电视剧热播'))\n",
    "print (if_english('Instagram'))\n",
    "print (if_english('Docs To Go™ Free Office Suit'))\n",
    "print (if_english('Instachat 😜'))"
   ]
  },
  {
   "cell_type": "markdown",
   "metadata": {},
   "source": [
    "As seen above, the function did not succeed in identifying certain app names. This is because emojis and characters like ™ fall outside the ASCII range and have corresponding numbers over 127."
   ]
  },
  {
   "cell_type": "code",
   "execution_count": 13,
   "metadata": {},
   "outputs": [
    {
     "name": "stdout",
     "output_type": "stream",
     "text": [
      "128540\n",
      "8482\n"
     ]
    }
   ],
   "source": [
    "print( ord('😜'))\n",
    "print( ord('™'))"
   ]
  },
  {
   "cell_type": "markdown",
   "metadata": {},
   "source": [
    "Therefore, to minimize data loss, we will only delete apps that have more than three characters that fall outside de ASCII range, modifying our `if_english` function and testing it again:"
   ]
  },
  {
   "cell_type": "code",
   "execution_count": 14,
   "metadata": {},
   "outputs": [],
   "source": [
    "def if_english(appname):\n",
    "    non_ascii = 0\n",
    "    is_english = True\n",
    "    for character in appname:\n",
    "        order = ord(character)\n",
    "        if order > 127:\n",
    "            non_ascii += 1\n",
    "    \n",
    "    if non_ascii > 3:\n",
    "        is_english = False\n",
    "    \n",
    "    return is_english"
   ]
  },
  {
   "cell_type": "code",
   "execution_count": 15,
   "metadata": {},
   "outputs": [
    {
     "name": "stdout",
     "output_type": "stream",
     "text": [
      "False\n",
      "True\n",
      "True\n",
      "True\n"
     ]
    }
   ],
   "source": [
    "print (if_english('爱奇艺PPS -《欢乐颂2》电视剧热播'))\n",
    "print (if_english('Instagram'))\n",
    "print (if_english('Docs To Go™ Free Office Suit'))\n",
    "print (if_english('Instachat 😜'))"
   ]
  },
  {
   "cell_type": "markdown",
   "metadata": {},
   "source": [
    "With this function, we will loop through both datasets to delete all the potential non-english apps and adding the cleaner dataset to the lists `android_english_apps` and `apple_english_apps`."
   ]
  },
  {
   "cell_type": "code",
   "execution_count": 16,
   "metadata": {},
   "outputs": [
    {
     "name": "stdout",
     "output_type": "stream",
     "text": [
      "Rows in Google Dataset:  9614\n",
      "Rows in Apple Dataset:  6184\n",
      "\n",
      "\n",
      "[['Photo Editor & Candy Camera & Grid & ScrapBook', 'ART_AND_DESIGN', '4.1', '159', '19M', '10,000+', 'Free', '0', 'Everyone', 'Art & Design', 'January 7, 2018', '1.0.0', '4.0.3 and up'], ['U Launcher Lite – FREE Live Cool Themes, Hide Apps', 'ART_AND_DESIGN', '4.7', '87510', '8.7M', '5,000,000+', 'Free', '0', 'Everyone', 'Art & Design', 'August 1, 2018', '1.2.4', '4.0.3 and up']]\n",
      "[['', 'id', 'track_name', 'size_bytes', 'currency', 'price', 'rating_count_tot', 'rating_count_ver', 'user_rating', 'user_rating_ver', 'ver', 'cont_rating', 'prime_genre', 'sup_devices.num', 'ipadSc_urls.num', 'lang.num', 'vpp_lic'], ['1', '281656475', 'PAC-MAN Premium', '100788224', 'USD', '3.99', '21292', '26', '4', '4.5', '6.3.5', '4+', 'Games', '38', '5', '10', '1']]\n"
     ]
    }
   ],
   "source": [
    "android_english_apps =[]\n",
    "apple_english_apps = []\n",
    "\n",
    "for app in android_clean_dataset:\n",
    "    if if_english(app[0]):\n",
    "        android_english_apps.append(app)\n",
    "\n",
    "for app in apple_apps:\n",
    "    if if_english(app[2]):\n",
    "        apple_english_apps.append(app)  \n",
    "\n",
    "print ('Rows in Google Dataset: ', len(android_english_apps))\n",
    "print ('Rows in Apple Dataset: ', len(apple_english_apps))\n",
    "print ('\\n')\n",
    "print (android_english_apps[:2])\n",
    "print (apple_english_apps[:2])"
   ]
  },
  {
   "cell_type": "markdown",
   "metadata": {},
   "source": [
    "## Data Cleaning Part 04 - Removing Non-free Apps"
   ]
  },
  {
   "cell_type": "markdown",
   "metadata": {},
   "source": [
    "The next step will be to remove any non-free apps as the free apps are the type that is important to this analysis. We will then create a function for this purpose called `free_apps`"
   ]
  },
  {
   "cell_type": "code",
   "execution_count": 17,
   "metadata": {},
   "outputs": [],
   "source": [
    "def free_apps(appdata,price_row):\n",
    "    freeapps_data = []\n",
    "    for app in appdata:\n",
    "        price = app[price_row]\n",
    "        if price == '0':\n",
    "            freeapps_data.append(app)\n",
    "    return freeapps_data\n"
   ]
  },
  {
   "cell_type": "code",
   "execution_count": 18,
   "metadata": {
    "scrolled": true
   },
   "outputs": [
    {
     "name": "stdout",
     "output_type": "stream",
     "text": [
      "android dataset length: 8864\n",
      "apple dataset length: 3222\n"
     ]
    }
   ],
   "source": [
    "freeapps_android = free_apps (android_english_apps,7)\n",
    "freeapps_apple = free_apps (apple_english_apps, 5)\n",
    "print ('android dataset length:',len(freeapps_android))\n",
    "print ('apple dataset length:',len(freeapps_apple))"
   ]
  },
  {
   "cell_type": "markdown",
   "metadata": {},
   "source": [
    "To confirm the right execution of this function, we will loop through android apps and make another list of free apps but now with the criteria that the sixth row is the string `\"free\"`"
   ]
  },
  {
   "cell_type": "code",
   "execution_count": 19,
   "metadata": {},
   "outputs": [
    {
     "name": "stdout",
     "output_type": "stream",
     "text": [
      "android dataset length: 8863\n"
     ]
    }
   ],
   "source": [
    "freeandroid = []\n",
    "\n",
    "for app in android_english_apps:\n",
    "    if app[6] == 'Free':\n",
    "        freeandroid.append(app)\n",
    "\n",
    "print (\"android dataset length:\", len(freeandroid))"
   ]
  },
  {
   "cell_type": "markdown",
   "metadata": {},
   "source": [
    "As we can see, there is a similar result for both criterias so the function defined is a reliable one. There must be a wrong entry but it is not relevant for the final result as there is just one.\n",
    "\n",
    "Moreover, we will insert the name os each column for each dataset."
   ]
  },
  {
   "cell_type": "code",
   "execution_count": 20,
   "metadata": {},
   "outputs": [
    {
     "name": "stdout",
     "output_type": "stream",
     "text": [
      "['App', 'Category', 'Rating', 'Reviews', 'Size', 'Installs', 'Type', 'Price', 'Content Rating', 'Genres', 'Last Updated', 'Current Ver', 'Android Ver']\n",
      "\n",
      "\n",
      "['', 'id', 'track_name', 'size_bytes', 'currency', 'price', 'rating_count_tot', 'rating_count_ver', 'user_rating', 'user_rating_ver', 'ver', 'cont_rating', 'prime_genre', 'sup_devices.num', 'ipadSc_urls.num', 'lang.num', 'vpp_lic']\n"
     ]
    }
   ],
   "source": [
    "row_name_column_android = android_apps [0]\n",
    "row_name_column_apple = apple_apps [0]\n",
    "\n",
    "freeapps_apple.insert(0, row_name_column_apple)\n",
    "freeapps_android.insert(0, row_name_column_android)\n",
    "\n",
    "print(freeapps_android[0])\n",
    "print(\"\\n\")\n",
    "print(freeapps_apple[0])"
   ]
  },
  {
   "cell_type": "markdown",
   "metadata": {},
   "source": [
    "So far we have:\n",
    "1. Removed inaccurate data\n",
    "2. Removed duplicate app entries\n",
    "3. Removed non-English apps\n",
    "4. Isolated the free apps\n"
   ]
  },
  {
   "cell_type": "markdown",
   "metadata": {},
   "source": [
    "## Most Common Apps - Identifying the Important Columns\n",
    "\n",
    "\n",
    "As stated in the beggining, our aim is to determine the kinds of apps that are likely to attract more users because our revenue is highly influenced by the number of people using our apps. \n",
    "\n",
    "To minimize risks and overhead, our validation strategy for an app idea is comprised of three steps:\n",
    "\n",
    "1. Build a minimal Android version of the app, and add it to Google Play.\n",
    "2. If the app has a good response from users, we develop it further.\n",
    "3. If the app is profitable after six months, we build an iOS version of the app and add it to the App Store.\n",
    "\n",
    "Because our end goal is to add the app on both Google Play and the App Store, we need to find app profiles that are successful on both markets. Thus we will inspect both data sets and identify the columns we could use to generate frequency tables to find out what are the most common genres in each market."
   ]
  },
  {
   "cell_type": "code",
   "execution_count": 21,
   "metadata": {
    "scrolled": true
   },
   "outputs": [
    {
     "name": "stdout",
     "output_type": "stream",
     "text": [
      "['', 'id', 'track_name', 'size_bytes', 'currency', 'price', 'rating_count_tot', 'rating_count_ver', 'user_rating', 'user_rating_ver', 'ver', 'cont_rating', 'prime_genre', 'sup_devices.num', 'ipadSc_urls.num', 'lang.num', 'vpp_lic']\n",
      "\n",
      "\n",
      "['2', '281796108', 'Evernote - stay organized', '158578688', 'USD', '0', '161065', '26', '4', '3.5', '8.2.2', '4+', 'Productivity', '37', '5', '23', '1']\n",
      "\n",
      "\n",
      "['3', '281940292', 'WeatherBug - Local Weather, Radar, Maps, Alerts', '100524032', 'USD', '0', '188583', '2822', '3.5', '4.5', '5.0.0', '4+', 'Weather', '37', '5', '3', '1']\n",
      "\n",
      "\n",
      "['4', '282614216', 'eBay: Best App to Buy, Sell, Save! Online Shopping', '128512000', 'USD', '0', '262241', '649', '4', '4.5', '5.10.0', '12+', 'Shopping', '37', '5', '9', '1']\n",
      "\n",
      "\n",
      "Number of rows: 3223\n",
      "Number of columns: 17\n",
      "\n",
      "\n",
      "['App', 'Category', 'Rating', 'Reviews', 'Size', 'Installs', 'Type', 'Price', 'Content Rating', 'Genres', 'Last Updated', 'Current Ver', 'Android Ver']\n",
      "\n",
      "\n",
      "['Photo Editor & Candy Camera & Grid & ScrapBook', 'ART_AND_DESIGN', '4.1', '159', '19M', '10,000+', 'Free', '0', 'Everyone', 'Art & Design', 'January 7, 2018', '1.0.0', '4.0.3 and up']\n",
      "\n",
      "\n",
      "['U Launcher Lite – FREE Live Cool Themes, Hide Apps', 'ART_AND_DESIGN', '4.7', '87510', '8.7M', '5,000,000+', 'Free', '0', 'Everyone', 'Art & Design', 'August 1, 2018', '1.2.4', '4.0.3 and up']\n",
      "\n",
      "\n",
      "['Sketch - Draw & Paint', 'ART_AND_DESIGN', '4.5', '215644', '25M', '50,000,000+', 'Free', '0', 'Teen', 'Art & Design', 'June 8, 2018', 'Varies with device', '4.2 and up']\n",
      "\n",
      "\n",
      "Number of rows: 8865\n",
      "Number of columns: 13\n"
     ]
    }
   ],
   "source": [
    "explore_data (freeapps_apple, 0, 4, True)\n",
    "print ('\\n')\n",
    "explore_data (freeapps_android, 0, 4, True)"
   ]
  },
  {
   "cell_type": "markdown",
   "metadata": {},
   "source": [
    "For the apple dataset, we could use the following columns:\n",
    "1. rating_count_tot  \n",
    "2. user_rating\n",
    "\n",
    "As for the android dataset, we could analyze the following columns:\n",
    "1. Rating\n",
    "2. Reviews\n",
    "3. Installs"
   ]
  },
  {
   "cell_type": "markdown",
   "metadata": {},
   "source": [
    "## Most Common Apps - Creating Frequency Tables\n",
    "\n",
    "To move forward with this analysis, we will first build a frequency table for the `prime_genre` column of the App Store data set, and for the `Genres` and `Category` columns of the Google Play data set.\n",
    "\n",
    "We will build two functions we can use to analyze the frequency tables:\n",
    "1. One function to generate frequency tables that show percentages called `freq_table`\n",
    "2. Another function we can use to display the percentages in a descending order called `display_table`\n",
    "\n",
    "Both are defined below:"
   ]
  },
  {
   "cell_type": "code",
   "execution_count": 22,
   "metadata": {},
   "outputs": [],
   "source": [
    "def freq_table(dataset, index):\n",
    "    freq = {}\n",
    "    for row in dataset[1:]:\n",
    "        relevant_info = row[index]\n",
    "        if relevant_info in freq:\n",
    "            freq[relevant_info] += 1\n",
    "        else:\n",
    "            freq[relevant_info] = 1\n",
    "    \n",
    "    return freq\n",
    "\n",
    "def display_table(dataset, index):\n",
    "    table = freq_table(dataset, index)\n",
    "    table_display = []\n",
    "    for key in table:\n",
    "        key_val_as_tuple = (table[key], key)\n",
    "        table_display.append(key_val_as_tuple)\n",
    "\n",
    "    table_sorted = sorted(table_display, reverse = True)\n",
    "    for entry in table_sorted:\n",
    "        freq_percentage = round((entry[0]/(len(dataset)))*100, 2)\n",
    "        print(entry[1], ':', freq_percentage, '%')"
   ]
  },
  {
   "cell_type": "markdown",
   "metadata": {},
   "source": [
    "Then we will show the frequency tables for the `prime_genre` column of the App Store data set, and for the `Genres` and `Category` columns of the Google Play data set."
   ]
  },
  {
   "cell_type": "code",
   "execution_count": 23,
   "metadata": {},
   "outputs": [
    {
     "name": "stdout",
     "output_type": "stream",
     "text": [
      "APPLE - Prime_Genre\n",
      "Games : 58.14 %\n",
      "Entertainment : 7.88 %\n",
      "Photo & Video : 4.96 %\n",
      "Education : 3.66 %\n",
      "Social Networking : 3.29 %\n",
      "Shopping : 2.61 %\n",
      "Utilities : 2.51 %\n",
      "Sports : 2.14 %\n",
      "Music : 2.05 %\n",
      "Health & Fitness : 2.02 %\n",
      "Productivity : 1.74 %\n",
      "Lifestyle : 1.58 %\n",
      "News : 1.33 %\n",
      "Travel : 1.24 %\n",
      "Finance : 1.12 %\n",
      "Weather : 0.87 %\n",
      "Food & Drink : 0.81 %\n",
      "Reference : 0.56 %\n",
      "Business : 0.53 %\n",
      "Book : 0.43 %\n",
      "Navigation : 0.19 %\n",
      "Medical : 0.19 %\n",
      "Catalogs : 0.12 %\n",
      "\n",
      "\n",
      "ANDROID - Category\n",
      "FAMILY : 18.91 %\n",
      "GAME : 9.72 %\n",
      "TOOLS : 8.46 %\n",
      "BUSINESS : 4.59 %\n",
      "LIFESTYLE : 3.9 %\n",
      "PRODUCTIVITY : 3.89 %\n",
      "FINANCE : 3.7 %\n",
      "MEDICAL : 3.53 %\n",
      "SPORTS : 3.4 %\n",
      "PERSONALIZATION : 3.32 %\n",
      "COMMUNICATION : 3.24 %\n",
      "HEALTH_AND_FITNESS : 3.08 %\n",
      "PHOTOGRAPHY : 2.94 %\n",
      "NEWS_AND_MAGAZINES : 2.8 %\n",
      "SOCIAL : 2.66 %\n",
      "TRAVEL_AND_LOCAL : 2.34 %\n",
      "SHOPPING : 2.24 %\n",
      "BOOKS_AND_REFERENCE : 2.14 %\n",
      "DATING : 1.86 %\n",
      "VIDEO_PLAYERS : 1.79 %\n",
      "MAPS_AND_NAVIGATION : 1.4 %\n",
      "FOOD_AND_DRINK : 1.24 %\n",
      "EDUCATION : 1.16 %\n",
      "ENTERTAINMENT : 0.96 %\n",
      "LIBRARIES_AND_DEMO : 0.94 %\n",
      "AUTO_AND_VEHICLES : 0.92 %\n",
      "HOUSE_AND_HOME : 0.82 %\n",
      "WEATHER : 0.8 %\n",
      "EVENTS : 0.71 %\n",
      "PARENTING : 0.65 %\n",
      "ART_AND_DESIGN : 0.64 %\n",
      "COMICS : 0.62 %\n",
      "BEAUTY : 0.6 %\n",
      "\n",
      "\n",
      "ANDROID - Genre\n",
      "Tools : 8.45 %\n",
      "Entertainment : 6.07 %\n",
      "Education : 5.35 %\n",
      "Business : 4.59 %\n",
      "Productivity : 3.89 %\n",
      "Lifestyle : 3.89 %\n",
      "Finance : 3.7 %\n",
      "Medical : 3.53 %\n",
      "Sports : 3.46 %\n",
      "Personalization : 3.32 %\n",
      "Communication : 3.24 %\n",
      "Action : 3.1 %\n",
      "Health & Fitness : 3.08 %\n",
      "Photography : 2.94 %\n",
      "News & Magazines : 2.8 %\n",
      "Social : 2.66 %\n",
      "Travel & Local : 2.32 %\n",
      "Shopping : 2.24 %\n",
      "Books & Reference : 2.14 %\n",
      "Simulation : 2.04 %\n",
      "Dating : 1.86 %\n",
      "Arcade : 1.85 %\n",
      "Video Players & Editors : 1.77 %\n",
      "Casual : 1.76 %\n",
      "Maps & Navigation : 1.4 %\n",
      "Food & Drink : 1.24 %\n",
      "Puzzle : 1.13 %\n",
      "Racing : 0.99 %\n",
      "Role Playing : 0.94 %\n",
      "Libraries & Demo : 0.94 %\n",
      "Auto & Vehicles : 0.92 %\n",
      "Strategy : 0.91 %\n",
      "House & Home : 0.82 %\n",
      "Weather : 0.8 %\n",
      "Events : 0.71 %\n",
      "Adventure : 0.68 %\n",
      "Comics : 0.61 %\n",
      "Beauty : 0.6 %\n",
      "Art & Design : 0.6 %\n",
      "Parenting : 0.5 %\n",
      "Card : 0.45 %\n",
      "Casino : 0.43 %\n",
      "Trivia : 0.42 %\n",
      "Educational;Education : 0.39 %\n",
      "Board : 0.38 %\n",
      "Educational : 0.37 %\n",
      "Education;Education : 0.34 %\n",
      "Word : 0.26 %\n",
      "Casual;Pretend Play : 0.24 %\n",
      "Music : 0.2 %\n",
      "Racing;Action & Adventure : 0.17 %\n",
      "Puzzle;Brain Games : 0.17 %\n",
      "Entertainment;Music & Video : 0.17 %\n",
      "Casual;Brain Games : 0.14 %\n",
      "Casual;Action & Adventure : 0.14 %\n",
      "Arcade;Action & Adventure : 0.12 %\n",
      "Action;Action & Adventure : 0.1 %\n",
      "Educational;Pretend Play : 0.09 %\n",
      "Simulation;Action & Adventure : 0.08 %\n",
      "Parenting;Education : 0.08 %\n",
      "Entertainment;Brain Games : 0.08 %\n",
      "Board;Brain Games : 0.08 %\n",
      "Parenting;Music & Video : 0.07 %\n",
      "Educational;Brain Games : 0.07 %\n",
      "Casual;Creativity : 0.07 %\n",
      "Art & Design;Creativity : 0.07 %\n",
      "Education;Pretend Play : 0.06 %\n",
      "Role Playing;Pretend Play : 0.05 %\n",
      "Education;Creativity : 0.05 %\n",
      "Role Playing;Action & Adventure : 0.03 %\n",
      "Puzzle;Action & Adventure : 0.03 %\n",
      "Entertainment;Creativity : 0.03 %\n",
      "Entertainment;Action & Adventure : 0.03 %\n",
      "Educational;Creativity : 0.03 %\n",
      "Educational;Action & Adventure : 0.03 %\n",
      "Education;Music & Video : 0.03 %\n",
      "Education;Brain Games : 0.03 %\n",
      "Education;Action & Adventure : 0.03 %\n",
      "Adventure;Action & Adventure : 0.03 %\n",
      "Video Players & Editors;Music & Video : 0.02 %\n",
      "Sports;Action & Adventure : 0.02 %\n",
      "Simulation;Pretend Play : 0.02 %\n",
      "Puzzle;Creativity : 0.02 %\n",
      "Music;Music & Video : 0.02 %\n",
      "Entertainment;Pretend Play : 0.02 %\n",
      "Casual;Education : 0.02 %\n",
      "Board;Action & Adventure : 0.02 %\n",
      "Video Players & Editors;Creativity : 0.01 %\n",
      "Trivia;Education : 0.01 %\n",
      "Travel & Local;Action & Adventure : 0.01 %\n",
      "Tools;Education : 0.01 %\n",
      "Strategy;Education : 0.01 %\n",
      "Strategy;Creativity : 0.01 %\n",
      "Strategy;Action & Adventure : 0.01 %\n",
      "Simulation;Education : 0.01 %\n",
      "Role Playing;Brain Games : 0.01 %\n",
      "Racing;Pretend Play : 0.01 %\n",
      "Puzzle;Education : 0.01 %\n",
      "Parenting;Brain Games : 0.01 %\n",
      "Music & Audio;Music & Video : 0.01 %\n",
      "Lifestyle;Pretend Play : 0.01 %\n",
      "Lifestyle;Education : 0.01 %\n",
      "Health & Fitness;Education : 0.01 %\n",
      "Health & Fitness;Action & Adventure : 0.01 %\n",
      "Entertainment;Education : 0.01 %\n",
      "Communication;Creativity : 0.01 %\n",
      "Comics;Creativity : 0.01 %\n",
      "Casual;Music & Video : 0.01 %\n",
      "Card;Action & Adventure : 0.01 %\n",
      "Books & Reference;Education : 0.01 %\n",
      "Art & Design;Pretend Play : 0.01 %\n",
      "Art & Design;Action & Adventure : 0.01 %\n",
      "Arcade;Pretend Play : 0.01 %\n",
      "Adventure;Education : 0.01 %\n"
     ]
    }
   ],
   "source": [
    "print ('APPLE - Prime_Genre')\n",
    "display_table (freeapps_apple,12)\n",
    "print ('\\n')\n",
    "print ('ANDROID - Category')\n",
    "display_table (freeapps_android,1)\n",
    "print ('\\n')\n",
    "print ('ANDROID - Genre')\n",
    "display_table (freeapps_android,9)"
   ]
  },
  {
   "cell_type": "markdown",
   "metadata": {},
   "source": [
    "### 1. Analysing Frequency Tables\n",
    "\n",
    "With the frequency tables originated, we will analyse what they tell us.\n",
    "\n",
    "#### 1.1 Apple: `prime_genre`\n",
    "\n",
    "The most common genre is `Games` representing almost 60% of our dataset, followed by `Enternainment` and `Photo & Video` (both representing around 13% combined).\n",
    "\n",
    "\n",
    "#### 1.2 Android: `genres` and `category`\n",
    "\n",
    "On the other hand, for the android dataset, we observe another kind of pattern where there is a more equaly distribution through different genres. In general, there are more apps designed for **practical purposes** rather than entertainment, as we can observe as the following categories take the top places (what is also true for the genre frequency):\n",
    "1. FAMILY : 18.91 %\n",
    "2. GAME : 9.72 %\n",
    "3. TOOLS : 8.46 %\n",
    "4. BUSINESS : 4.59 %\n",
    "5. LIFESTYLE : 3.9 %\n",
    "6. PRODUCTIVITY : 3.89 %\n",
    "7. FINANCE : 3.7 %\n",
    "\n",
    "---\n",
    "Hence, the most important apps of our interest is **entertainment-related for *Apple/iOS***  and **productivity-related for *Android*** if we only analyse through this perspective. However, despite showing the most frequent designed apps, those frequency tables do not reveal the apps that have the most users. Therefore, we can not rely only in these analysis to recommend an app profile that would fit our purpose. \n",
    "\n",
    "Now, we'd like to get an idea about the kind of apps with the most users. One way to find out which genres are the most popular (have the most users) is to calculate the average number of **installs** for each app genre. For the Google Play data set, we can find this information in the `Installs` column, but this information is missing for the App Store data set. As a workaround, we'll take the total number of user ratings as a proxy, which we can find in the `rating_count_tot` column.\n",
    "\n",
    "#### 1.3 Apple: average number of user ratings per genre\n"
   ]
  },
  {
   "cell_type": "code",
   "execution_count": 24,
   "metadata": {},
   "outputs": [
    {
     "name": "stdout",
     "output_type": "stream",
     "text": [
      "APPLE - Average number of user ratings:\n",
      "Navigation  -  86090.33\n",
      "Reference  -  74942.11\n",
      "Social Networking  -  71548.35\n",
      "Music  -  57326.53\n",
      "Weather  -  52279.89\n",
      "Book  -  39758.5\n",
      "Food & Drink  -  33333.92\n",
      "Finance  -  31467.94\n",
      "Photo & Video  -  28441.54\n",
      "Travel  -  28243.8\n",
      "Shopping  -  26919.69\n",
      "Health & Fitness  -  23298.02\n",
      "Sports  -  23008.9\n",
      "Games  -  22788.67\n",
      "News  -  21248.02\n",
      "Productivity  -  21028.41\n",
      "Utilities  -  18684.46\n",
      "Lifestyle  -  16485.76\n",
      "Entertainment  -  14029.83\n",
      "Business  -  7491.12\n",
      "Education  -  7003.98\n",
      "Catalogs  -  4004.0\n",
      "Medical  -  612.0\n"
     ]
    }
   ],
   "source": [
    "apple_freqtable_genre = freq_table(freeapps_apple, 12)\n",
    "genre_user_number_ratings_avg = {}\n",
    "for genre in apple_freqtable_genre:\n",
    "    total = 0\n",
    "    for row in freeapps_apple:\n",
    "        genre_app = row[12]\n",
    "        if genre_app == genre:\n",
    "            total += float(row[6])\n",
    "    genre_user_number_ratings_avg[genre] = round(total/apple_freqtable_genre[genre],2)   \n",
    "\n",
    "        \n",
    "table_display = []\n",
    "for genre in genre_user_number_ratings_avg:\n",
    "    key_val_as_tuple = (genre_user_number_ratings_avg[genre], genre)\n",
    "    table_display.append(key_val_as_tuple)\n",
    "\n",
    "table_display_sorted = sorted(table_display, reverse = True)\n",
    "print(\"APPLE - Average number of user ratings:\")\n",
    "for entry in table_display_sorted:\n",
    "    print(entry[1], ' - ', entry[0])\n"
   ]
  },
  {
   "cell_type": "code",
   "execution_count": 25,
   "metadata": {},
   "outputs": [
    {
     "name": "stdout",
     "output_type": "stream",
     "text": [
      "APPLE - Average user rating:\n",
      "Catalogs  -  4.12\n",
      "Games  -  4.04\n",
      "Productivity  -  4.0\n",
      "Shopping  -  3.97\n",
      "Business  -  3.97\n",
      "Music  -  3.95\n",
      "Photo & Video  -  3.9\n",
      "Navigation  -  3.83\n",
      "Health & Fitness  -  3.77\n",
      "Reference  -  3.67\n",
      "Education  -  3.64\n",
      "Food & Drink  -  3.63\n",
      "Social Networking  -  3.59\n",
      "Entertainment  -  3.54\n",
      "Utilities  -  3.53\n",
      "Travel  -  3.49\n",
      "Weather  -  3.48\n",
      "Lifestyle  -  3.41\n",
      "Finance  -  3.38\n",
      "News  -  3.24\n",
      "Sports  -  3.07\n",
      "Book  -  3.07\n",
      "Medical  -  3.0\n"
     ]
    }
   ],
   "source": [
    "apple_freqtable_genre = freq_table(freeapps_apple, 12)\n",
    "genre_user_ratings_avg = {}\n",
    "for genre in apple_freqtable_genre:\n",
    "    total = 0\n",
    "    for row in freeapps_apple:\n",
    "        genre_app = row[12]\n",
    "        if genre_app == genre:\n",
    "            total += float(row[8])\n",
    "    genre_user_ratings_avg[genre] = round(total/apple_freqtable_genre[genre],2)   \n",
    "\n",
    "        \n",
    "table_display = []\n",
    "for genre in genre_user_ratings_avg:\n",
    "    key_val_as_tuple = (genre_user_ratings_avg[genre], genre)\n",
    "    table_display.append(key_val_as_tuple)\n",
    "\n",
    "table_display_sorted = sorted(table_display, reverse = True)\n",
    "print(\"APPLE - Average user rating:\")\n",
    "for entry in table_display_sorted:\n",
    "    print(entry[1], ' - ', entry[0])"
   ]
  },
  {
   "cell_type": "markdown",
   "metadata": {},
   "source": [
    "Thus, with all those three analysis from the Apple Store, we can suggest that a good app profile would be one made towards entertainment purposes as genres as `Games`,`Music`and `Photo & Video` appear with good results.\n",
    "\n",
    "#### 1.4 Android: average number of installs"
   ]
  },
  {
   "cell_type": "code",
   "execution_count": 26,
   "metadata": {
    "scrolled": true
   },
   "outputs": [
    {
     "name": "stdout",
     "output_type": "stream",
     "text": [
      "ANDROID - Average number of installs per category:\n",
      "COMMUNICATION  -  38456119.17\n",
      "VIDEO_PLAYERS  -  24727872.45\n",
      "SOCIAL  -  23253652.13\n",
      "PHOTOGRAPHY  -  17840110.4\n",
      "PRODUCTIVITY  -  16787331.34\n",
      "GAME  -  15588015.6\n",
      "TRAVEL_AND_LOCAL  -  13984077.71\n",
      "ENTERTAINMENT  -  11640705.88\n",
      "TOOLS  -  10801391.3\n",
      "NEWS_AND_MAGAZINES  -  9549178.47\n",
      "BOOKS_AND_REFERENCE  -  8767811.89\n",
      "SHOPPING  -  7036877.31\n",
      "PERSONALIZATION  -  5201482.61\n",
      "WEATHER  -  5074486.2\n",
      "HEALTH_AND_FITNESS  -  4188821.99\n",
      "MAPS_AND_NAVIGATION  -  4056941.77\n",
      "FAMILY  -  3695641.82\n",
      "SPORTS  -  3638640.14\n",
      "ART_AND_DESIGN  -  1986335.09\n",
      "FOOD_AND_DRINK  -  1924897.74\n",
      "EDUCATION  -  1833495.15\n",
      "BUSINESS  -  1712290.15\n",
      "LIFESTYLE  -  1437816.27\n",
      "FINANCE  -  1387692.48\n",
      "HOUSE_AND_HOME  -  1331540.56\n",
      "DATING  -  854028.83\n",
      "COMICS  -  817657.27\n",
      "AUTO_AND_VEHICLES  -  647317.82\n",
      "LIBRARIES_AND_DEMO  -  638503.73\n",
      "PARENTING  -  542603.62\n",
      "BEAUTY  -  513151.89\n",
      "EVENTS  -  253542.22\n",
      "MEDICAL  -  120550.62\n"
     ]
    }
   ],
   "source": [
    "android_freqtable_genre = freq_table(freeapps_android, 1)\n",
    "genre_number_installs_avg = {}\n",
    "for genre in android_freqtable_genre:\n",
    "    total = 0\n",
    "    for row in freeapps_android:\n",
    "        genre_app = row[1]\n",
    "        installs = row[5].replace (\"+\",\"\")\n",
    "        installs = installs.replace(\",\",\"\")\n",
    "        if genre_app == genre:\n",
    "            total += float(installs)\n",
    "    genre_number_installs_avg[genre] = round(total/android_freqtable_genre[genre],2)   \n",
    "    \n",
    "table_display = []\n",
    "for genre in genre_number_installs_avg:\n",
    "    key_val_as_tuple = (genre_number_installs_avg[genre], genre)\n",
    "    table_display.append(key_val_as_tuple)\n",
    "\n",
    "table_display_sorted = sorted(table_display, reverse = True)\n",
    "print(\"ANDROID - Average number of installs per category:\") \n",
    "for entry in table_display_sorted:\n",
    "    print(entry[1], ' - ', entry[0])"
   ]
  },
  {
   "cell_type": "markdown",
   "metadata": {},
   "source": [
    "## App Genre Suggestion\n",
    "\n",
    "### 1. Summary of Results\n",
    "\n",
    "#### 1.1 Common Apps - Android\n",
    "\n",
    "|Common Apps|%|Average number of installs|\n",
    "|-----------|-|--------------------------|\n",
    "|Family|18.91|3,695,641.82|\n",
    "|Game|9.72|15,588,015.6|\n",
    "|Tools|8.46|10,801,391.3|\n",
    "|Business|4.59|1,712,290.15|\n",
    "|Lifestyle|3.9|1,437,816.27|\n",
    "|Productivity|3.89|16,787,331.34|\n",
    "|Finance|3.7|1,387,692.48|\n",
    "|Communication|3.24|38,456,119.17|\n",
    "|Health and Fitness|3.08|4,188,821.99|\n",
    "|Photography|2.94|17,840,110.4|\n",
    "|News and Magazines|2.8|9,549,178.47|\n",
    "|Social|2.66|23,253,652.13|\n",
    "|Travel and Local|2.34|13,984,077.71|\n",
    "|Shopping|2.24|7,036,877.31|\n",
    "\n",
    "#### 1.2 Common Apps - Apple\n",
    "\n",
    "|Common Apps|%|Average User Rating|\n",
    "|-----------|-|-------------------|\n",
    "|Games|58.14|4.04|\n",
    "|Entertainment|7.88|3.54|\n",
    "|Photo & Video|4.96|3.9|\n",
    "|Education|3.66|3.64|\n",
    "|Social Networking|3.29|3.59|\n",
    "|Shopping|2.61|3.97|\n",
    "|Utilities|2.51|3.53|\n",
    "|Sports|2.14|3.07|\n",
    "|Music|2.05|3.95|\n",
    "|Health & Fitness|2.02|3.77|\n",
    "|Productivity|1.74|4.0|\n",
    "\n"
   ]
  },
  {
   "cell_type": "markdown",
   "metadata": {},
   "source": [
    "### 2. Suggestion\n",
    "\n",
    "It is then suggested that we focus on developing, at first, an app that is focused on productivity, communication and practical purposes as we will launch the MVP (*minimal viable product*) to the Android platform to test it.\n",
    "\n",
    "Another fact to consider is that there are a lot more users on Android platform than iOS. Therefore, it would make sense focusing on its demand rather than primarily the iOS demand (focused on entertainment)."
   ]
  }
 ],
 "metadata": {
  "kernelspec": {
   "display_name": "Python 3",
   "language": "python",
   "name": "python3"
  },
  "language_info": {
   "codemirror_mode": {
    "name": "ipython",
    "version": 3
   },
   "file_extension": ".py",
   "mimetype": "text/x-python",
   "name": "python",
   "nbconvert_exporter": "python",
   "pygments_lexer": "ipython3",
   "version": "3.7.3"
  }
 },
 "nbformat": 4,
 "nbformat_minor": 2
}
